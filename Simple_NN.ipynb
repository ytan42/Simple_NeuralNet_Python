{
  "nbformat": 4,
  "nbformat_minor": 0,
  "metadata": {
    "colab": {
      "name": "Simple NN.ipynb",
      "version": "0.3.2",
      "provenance": [],
      "collapsed_sections": [],
      "include_colab_link": true
    },
    "kernelspec": {
      "name": "python3",
      "display_name": "Python 3"
    }
  },
  "cells": [
    {
      "cell_type": "markdown",
      "metadata": {
        "id": "view-in-github",
        "colab_type": "text"
      },
      "source": [
        "<a href=\"https://colab.research.google.com/github/ytan42/Simple_NeuralNet_Python/blob/master/Simple_NN.ipynb\" target=\"_parent\"><img src=\"https://colab.research.google.com/assets/colab-badge.svg\" alt=\"Open In Colab\"/></a>"
      ]
    },
    {
      "cell_type": "code",
      "metadata": {
        "id": "K0CrUgTMzH32",
        "colab_type": "code",
        "colab": {}
      },
      "source": [
        "import pandas as pd\n",
        "import numpy as np\n",
        "import matplotlib.pyplot as plt\n",
        "from sklearn.preprocessing import Normalizer"
      ],
      "execution_count": 0,
      "outputs": []
    },
    {
      "cell_type": "markdown",
      "metadata": {
        "id": "URCHv5E01Rke",
        "colab_type": "text"
      },
      "source": [
        "### Generate a toy dataset to test the neural network"
      ]
    },
    {
      "cell_type": "code",
      "metadata": {
        "id": "z00YhNO2zfZ8",
        "colab_type": "code",
        "colab": {
          "base_uri": "https://localhost:8080/",
          "height": 145
        },
        "outputId": "91056bab-a872-485d-80f3-c08f33a1a90b"
      },
      "source": [
        "# A simple data frame for testing purpose only\n",
        "a = np.arange(1, 500)\n",
        "b = np.arange(1, 500)\n",
        "c = np.random.uniform(size = len(b))\n",
        "\n",
        "df = pd.DataFrame({\"a\" : a,\n",
        "                   \"b\" : b,\n",
        "                   \"c\" : c})\n",
        "\n",
        "# Added a random number to make prediction harder\n",
        "df['d'] = ((df.a + df.b) * df.c) + np.random.normal(size = len(a))\n",
        "\n",
        "print(df.head())\n",
        "print(df.shape)"
      ],
      "execution_count": 59,
      "outputs": [
        {
          "output_type": "stream",
          "text": [
            "   a  b         c         d\n",
            "0  1  1  0.121687  1.484646\n",
            "1  2  2  0.394588 -0.910040\n",
            "2  3  3  0.631512  3.779828\n",
            "3  4  4  0.645079  4.443279\n",
            "4  5  5  0.134499  1.843202\n",
            "(499, 4)\n"
          ],
          "name": "stdout"
        }
      ]
    },
    {
      "cell_type": "code",
      "metadata": {
        "id": "kYeJI_fZykQs",
        "colab_type": "code",
        "colab": {
          "base_uri": "https://localhost:8080/",
          "height": 269
        },
        "outputId": "d351c29d-36bd-42a8-a12a-b122a1333287"
      },
      "source": [
        "# Plot the data\n",
        "plt.plot(df.d)\n",
        "plt.show()"
      ],
      "execution_count": 60,
      "outputs": [
        {
          "output_type": "display_data",
          "data": {
            "image/png": "[encoded data removed]",
            "text/plain": [
              "<Figure size 432x288 with 1 Axes>"
            ]
          },
          "metadata": {
            "tags": []
          }
        }
      ]
    },
    {
      "cell_type": "markdown",
      "metadata": {
        "id": "3AzYYtGy1rNn",
        "colab_type": "text"
      },
      "source": [
        "### Helper functions"
      ]
    },
    {
      "cell_type": "code",
      "metadata": {
        "id": "T59l2UI73gNb",
        "colab_type": "code",
        "colab": {}
      },
      "source": [
        "# Weight initiation function\n",
        "def init_weight(n, m):\n",
        "    weight_matrix = np.random.uniform(low = 0.0, high = 1.0, size = (n, m))\n",
        "    return(weight_matrix)"
      ],
      "execution_count": 0,
      "outputs": []
    },
    {
      "cell_type": "code",
      "metadata": {
        "id": "A2q-TH9jztA2",
        "colab_type": "code",
        "colab": {}
      },
      "source": [
        "# Bias initiation function\n",
        "def init_bias(m):\n",
        "    bias_matrix = np.random.uniform(low = 0.0, high = 1.0, size = (m, 1))\n",
        "    return(bias_matrix)"
      ],
      "execution_count": 0,
      "outputs": []
    },
    {
      "cell_type": "code",
      "metadata": {
        "id": "dtsB1ckS0W_C",
        "colab_type": "code",
        "colab": {}
      },
      "source": [
        "# The sigmoid function\n",
        "def sigmoid(z):\n",
        "    return(1 / (1 + np.exp(z * -1)))\n",
        "\n",
        "# The detrivative of sigmoid function\n",
        "def sigmoid_d(z):\n",
        "    return(sigmoid(z) * (1 - sigmoid(z)))"
      ],
      "execution_count": 0,
      "outputs": []
    },
    {
      "cell_type": "code",
      "metadata": {
        "id": "-9qebrOF0XB7",
        "colab_type": "code",
        "colab": {}
      },
      "source": [
        "# The Hyperbolic Tangent function\n",
        "def tanh(z):\n",
        "    return((np.exp(z) - np.exp(-z))/(np.exp(z) + np.exp(-z)))\n",
        "    \n",
        "# The derivative of tanh function\n",
        "def tanh_d(z):\n",
        "    return(1-(tanh(z) ** 2))"
      ],
      "execution_count": 0,
      "outputs": []
    },
    {
      "cell_type": "code",
      "metadata": {
        "id": "MVliSYM8IuR3",
        "colab_type": "code",
        "colab": {}
      },
      "source": [
        "# Mean squared error function\n",
        "def mean_sqr_err(y, y_hat):\n",
        "    out = sum(((y - y_hat) ** 2)) / len(y)\n",
        "    return(out)"
      ],
      "execution_count": 0,
      "outputs": []
    },
    {
      "cell_type": "code",
      "metadata": {
        "id": "EkhZ6e_c0XE6",
        "colab_type": "code",
        "colab": {}
      },
      "source": [
        "# Notation:\n",
        "# xi - the ith row of data\n",
        "# w1 - weights between input and 2nd layer\n",
        "# b1 - biases of 2nd layer\n",
        "# a2 - output of 2nd layer\n",
        "# w2 - weights between 2nd and 3rd\n",
        "# b2 - biases of 3rd layer\n",
        "# a3 - output of 3rd layer\n",
        "# w3 - weights between 3rd and output layer\n",
        "# b3 - biases of output layer\n",
        "# z4 - output of the network\n",
        "\n",
        "\n",
        "# The feedforward function\n",
        "def feedforward(xi, w1, b1, w2, b2, w3, b3):\n",
        "\n",
        "  # Input layer - takes input from data\n",
        "  a1 = xi\n",
        "\n",
        "  # 2nd hidden layer\n",
        "  z2 = np.dot(a1.T, w1) + b1.T\n",
        "  a2 = tanh(z2)\n",
        "\n",
        "  # 3rd hidden layer\n",
        "  z3 = np.dot(a2, w2) + b2.T\n",
        "  a3 = tanh(z3)\n",
        "\n",
        "  # 4th and output layer. Only linear combination not activation function.\n",
        "  z4 = np.dot(a3, w3) + b3\n",
        "\n",
        "  # Output the prediction\n",
        "  return({'w1' : w1,\n",
        "          'z2' : z2,\n",
        "          'w2' : w2,\n",
        "          'z3' : z3,\n",
        "          'w3' : w3,\n",
        "          'z4' : z4,\n",
        "          'a3' : a3,\n",
        "          'a2' : a2,\n",
        "          'a1' : a1})"
      ],
      "execution_count": 0,
      "outputs": []
    },
    {
      "cell_type": "code",
      "metadata": {
        "id": "JnMg1D-KgKK1",
        "colab_type": "code",
        "colab": {}
      },
      "source": [
        "# Backpropagation function (simple version)\n",
        "def backpropagation(yi, forward):\n",
        "    \n",
        "    # Unpack variables\n",
        "    z2 = forward['z2']\n",
        "    w2 = forward['w2']\n",
        "    z3 = forward['z3']\n",
        "    w3 = forward['w3']\n",
        "    z4 = forward['z4']\n",
        "    \n",
        "    # Output layer error - the derivative of 1/2(y - y_hat)^2\n",
        "    d4 = -(yi - z4)\n",
        "    \n",
        "    # 3rd layer error\n",
        "    d3 = np.dot(d4, w3.T) * tanh_d(z3)\n",
        "    \n",
        "    # 2nd layer error\n",
        "    d2 = np.dot(d3, w2.T) * tanh_d(z2)\n",
        "    \n",
        "    return({'d4':d4, \n",
        "            'd3':d3, \n",
        "            'd2':d2})"
      ],
      "execution_count": 0,
      "outputs": []
    },
    {
      "cell_type": "code",
      "metadata": {
        "id": "zkXNe0ieHeBx",
        "colab_type": "code",
        "colab": {}
      },
      "source": [
        "# The prediction function is the feedforward\n",
        "def predict_NN(x, model):\n",
        "    \n",
        "    # Unpack weights and biases from modell object\n",
        "    w1 = model['w1']\n",
        "    b1 = model['b1']  \n",
        "    w2 = model['w2']\n",
        "    b2 = model['b2'] \n",
        "    w3 = model['w3']\n",
        "    b3 = model['b3']\n",
        "    \n",
        "    n_obs = x.shape[0]\n",
        "    pred = []\n",
        "    \n",
        "    for obs in range(n_obs):\n",
        "        \n",
        "        xi = x.iloc[obs, :]\n",
        "        y_hat = feedforward(xi=xi, w1=w1, b1=b1, w2=w2, b2=b2, w3=w3, b3=b3)\n",
        "        pred.append(y_hat['z4'][0][0])\n",
        "    \n",
        "    return(pred)"
      ],
      "execution_count": 0,
      "outputs": []
    },
    {
      "cell_type": "markdown",
      "metadata": {
        "id": "47pVl7GU5gha",
        "colab_type": "text"
      },
      "source": [
        "### The main build function"
      ]
    },
    {
      "cell_type": "code",
      "metadata": {
        "id": "ADI6a8iOgKIH",
        "colab_type": "code",
        "colab": {}
      },
      "source": [
        "def build_NN(x, \n",
        "             y, \n",
        "             h1_neurons = 4, \n",
        "             h2_neurons = 2, \n",
        "             epoch_max = 50, \n",
        "             eta = 0.01, \n",
        "             batch_size = 10):\n",
        "    \n",
        "    # Initiate weights and biases \n",
        "    w1 = init_weight(n = x.shape[1], m = h1_neurons)\n",
        "    b1 = init_bias(m = h1_neurons)\n",
        "    \n",
        "    w2 = init_weight(n = np.shape(w1)[1], m = h2_neurons)\n",
        "    b2 = init_bias(m = h2_neurons)\n",
        "    \n",
        "    w3 = init_weight(n = np.shape(w2)[1], m = 1)\n",
        "    b3 = init_bias(m = 1)\n",
        "    \n",
        "    n_obs = x.shape[0]\n",
        "    n_batch = int(n_obs / batch_size) # Number of observations per batch\n",
        "    \n",
        "    error_epoch = [] # To record error for each batch\n",
        "    \n",
        "    for epoch in range(epoch_max):\n",
        "        \n",
        "        # Initiate weight and bias delta to matrix of 0s\n",
        "        w3_delta = w3 * 0\n",
        "        w2_delta = w2 * 0\n",
        "        w1_delta = w1 * 0\n",
        "        b3_delta = b3 * 0\n",
        "        b2_delta = b2 * 0\n",
        "        b1_delta = b1 * 0\n",
        "        \n",
        "        # Start stochastic batch gradient descent without replacement\n",
        "        for batch in range(n_batch):\n",
        "            \n",
        "            # Randomly chose n ('batch_size') data points from input without\n",
        "            # replacement.\n",
        "            obs_batch = np.random.choice(n_obs, \n",
        "                                         batch_size, \n",
        "                                         replace = False)\n",
        "            \n",
        "            # For each observation, calculate weight and bias delta\n",
        "            for obs in obs_batch:\n",
        "                \n",
        "                xi = x.iloc[obs, :].values\n",
        "                yi = y.iloc[obs]\n",
        "                \n",
        "                forward = feedforward(xi=xi, w1=w1, b1=b1, w2=w2, b2=b2, w3=w3, b3=b3)\n",
        "                \n",
        "                backprop = backpropagation(yi, forward)\n",
        "                \n",
        "                # Cumulate weight deltas\n",
        "                w3_delta = w3_delta + np.dot(forward['a3'].T, backprop['d4'])\n",
        "                w2_delta = w2_delta + np.dot(forward['a2'].T, backprop['d3'])\n",
        "                w1_delta = w1_delta + np.dot(forward['a1'].reshape(3, 1), backprop['d2'])\n",
        "                \n",
        "                # Cumulate bias deltas\n",
        "                b3_delta = b3_delta + backprop['d4']\n",
        "                b2_delta = b2_delta + backprop['d3'].T\n",
        "                b1_delta = b1_delta + backprop['d2'].T\n",
        "                \n",
        "            # Update weights and biases after finish one batch.\n",
        "            # Then, use the updated weights and biases for the next batch.\n",
        "            w1 = w1 - eta * (w1_delta / batch_size)\n",
        "            w2 = w2 - eta * (w2_delta / batch_size)\n",
        "            w3 = w3 - eta * (w3_delta / batch_size)\n",
        "            b1 = b1 - eta * (b1_delta / batch_size)\n",
        "            b2 = b2 - eta * (b2_delta / batch_size)\n",
        "            b3 = b3 - eta * (b3_delta / batch_size)\n",
        "        \n",
        "        # At the each epoch, make prediction by using current weights and biases.\n",
        "        epoch_predit = predict_NN(x, {'w1':w1, 'w2':w2, 'w3':w3, 'b1':b1, 'b2':b2, 'b3':b3})\n",
        "        \n",
        "        # Calculate mean sqr err so far for current epoch\n",
        "        epoch_err = mean_sqr_err(y, epoch_predit)\n",
        "        error_epoch.append(epoch_err)\n",
        "        \n",
        "    out = {'w1' : w1,\n",
        "           'w2' : w2,\n",
        "           'w3' : w3,\n",
        "           'b1' : b1,\n",
        "           'b2' : b2,\n",
        "           'b3' : b3,\n",
        "           'error_epoch' : error_epoch}\n",
        "    \n",
        "    return(out)"
      ],
      "execution_count": 0,
      "outputs": []
    },
    {
      "cell_type": "markdown",
      "metadata": {
        "id": "Vc-Qc0ZsJocn",
        "colab_type": "text"
      },
      "source": [
        "### Make a neural network and make prediction\n",
        "\n",
        "Number of neuron in input = 3\n",
        "\n",
        "Number of neuron in 2nd layer = 4\n",
        "\n",
        "Number of neuron in 3rd layer = 2\n",
        "\n",
        "Number of neuron in output layer = 1"
      ]
    },
    {
      "cell_type": "code",
      "metadata": {
        "id": "GstIBqlz07iE",
        "colab_type": "code",
        "colab": {}
      },
      "source": [
        "# Normalise data by using sklearn normalizer function\n",
        "transformer = Normalizer().fit(df)\n",
        "df_norm = pd.DataFrame(transformer.transform(df))\n",
        "\n",
        "x_norm = df_norm.iloc[:, 0:3]\n",
        "y_norm = df_norm.iloc[:, 3]    "
      ],
      "execution_count": 0,
      "outputs": []
    },
    {
      "cell_type": "code",
      "metadata": {
        "id": "lBJ3alaqKVDv",
        "colab_type": "code",
        "colab": {
          "base_uri": "https://localhost:8080/",
          "height": 235
        },
        "outputId": "93791f88-b988-4f20-c6ab-e5bb57900da5"
      },
      "source": [
        "print(x_norm.head())\n",
        "print(y_norm.head())"
      ],
      "execution_count": 62,
      "outputs": [
        {
          "output_type": "stream",
          "text": [
            "          0         1         2\n",
            "0  0.486851  0.486851  0.059244\n",
            "1  0.667265  0.667265  0.131647\n",
            "2  0.524736  0.524736  0.110459\n",
            "3  0.553855  0.553855  0.089320\n",
            "4  0.684127  0.684127  0.018403\n",
            "0    0.722802\n",
            "1   -0.303619\n",
            "2    0.661137\n",
            "3    0.615233\n",
            "4    0.252197\n",
            "Name: 3, dtype: float64\n"
          ],
          "name": "stdout"
        }
      ]
    },
    {
      "cell_type": "code",
      "metadata": {
        "id": "BGyxem5CgKCm",
        "colab_type": "code",
        "colab": {}
      },
      "source": [
        "# Call the build_NN function to build nerual network\n",
        "nn_out = build_NN(x_norm, \n",
        "                  y_norm, \n",
        "                  h1_neurons = 4, \n",
        "                  h2_neurons = 3, \n",
        "                  epoch_max = 500, \n",
        "                  eta = 0.01, \n",
        "                  batch_size = 20)\n",
        "\n",
        "nn_pred = predict_NN(x_norm, nn_out)"
      ],
      "execution_count": 0,
      "outputs": []
    },
    {
      "cell_type": "code",
      "metadata": {
        "id": "BuhAGUk1LR8h",
        "colab_type": "code",
        "colab": {
          "base_uri": "https://localhost:8080/",
          "height": 35
        },
        "outputId": "b020ad75-0ce1-4817-b770-e2df536da3e4"
      },
      "source": [
        "mean_sqr_err(y_norm, nn_pred)"
      ],
      "execution_count": 64,
      "outputs": [
        {
          "output_type": "execute_result",
          "data": {
            "text/plain": [
              "0.006259763881676287"
            ]
          },
          "metadata": {
            "tags": []
          },
          "execution_count": 64
        }
      ]
    },
    {
      "cell_type": "code",
      "metadata": {
        "id": "ngM_pJ93LKQO",
        "colab_type": "code",
        "colab": {
          "base_uri": "https://localhost:8080/",
          "height": 269
        },
        "outputId": "d88c7e9f-4225-4cce-e93b-28133c45dbe5"
      },
      "source": [
        "# Plot the error\n",
        "plt.plot(nn_out['error_epoch'])\n",
        "plt.show()"
      ],
      "execution_count": 65,
      "outputs": [
        {
          "output_type": "display_data",
          "data": {
            "image/png": "[encoded data removed]",
            "text/plain": [
              "<Figure size 432x288 with 1 Axes>"
            ]
          },
          "metadata": {
            "tags": []
          }
        }
      ]
    },
    {
      "cell_type": "code",
      "metadata": {
        "id": "6X3aIM9tgJ_l",
        "colab_type": "code",
        "outputId": "4a8db702-b2bc-40b3-f0ee-785ad3147fbd",
        "colab": {
          "base_uri": "https://localhost:8080/",
          "height": 269
        }
      },
      "source": [
        "# Plot actual vs predicted\n",
        "nn_pred_df = pd.DataFrame({'y':y_norm, 'y_hat':nn_pred})\n",
        "plt.plot(nn_pred_df['y'])\n",
        "plt.plot(nn_pred_df['y_hat'])\n",
        "plt.show()"
      ],
      "execution_count": 67,
      "outputs": [
        {
          "output_type": "display_data",
          "data": {
            "image/png": "[encoded data removed]",
            "text/plain": [
              "<Figure size 432x288 with 1 Axes>"
            ]
          },
          "metadata": {
            "tags": []
          }
        }
      ]
    }
  ]
}